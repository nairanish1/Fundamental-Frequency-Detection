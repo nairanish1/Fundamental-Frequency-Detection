{
  "cells": [
    {
      "cell_type": "code",
      "execution_count": 73,
      "id": "04b03d29",
      "metadata": {
        "id": "04b03d29"
      },
      "outputs": [],
      "source": [
        "import numpy as np\n",
        "import scipy\n",
        "import matplotlib.pyplot as plt\n",
        "import os, glob"
      ]
    },
    {
      "cell_type": "code",
      "execution_count": 74,
      "id": "GFXq5sbhqcHA",
      "metadata": {
        "id": "GFXq5sbhqcHA"
      },
      "outputs": [],
      "source": [
        "def block_audio(x, block_size, hop_size, fs):\n",
        "    # Compute the number of blocks\n",
        "    num_blocks = int((len(x) - block_size) / hop_size) + 1\n",
        "\n",
        "    # Initialize the blocks\n",
        "    xb = np.zeros((num_blocks, block_size))\n",
        "\n",
        "    # Initialize the timestamps\n",
        "    timeInSec = np.zeros(num_blocks)\n",
        "\n",
        "    # Compute the blocks and timestamps\n",
        "    for i in range(num_blocks):\n",
        "        start = i * hop_size\n",
        "        end = start + block_size\n",
        "        xb[i] = x[start:end]\n",
        "        timeInSec[i] = start / fs\n",
        "\n",
        "    return xb, timeInSec"
      ]
    },
    {
      "cell_type": "code",
      "execution_count": 75,
      "id": "AwfD6cdiCc6z",
      "metadata": {
        "id": "AwfD6cdiCc6z"
      },
      "outputs": [],
      "source": [
        "def comp_acf(input_vector, is_normalized):\n",
        "\n",
        "  # Compute the autocorrelation and take the second half\n",
        "  result = np.correlate(input_vector, input_vector, mode='full')[len(input_vector)-1:]\n",
        "\n",
        "  if is_normalized:\n",
        "    result /= result[0]\n",
        "\n",
        "  # Generate lags\n",
        "  lags = np.arange(0, len(result), 1)\n",
        "\n",
        "  return result\n",
        "  # Brittney"
      ]
    },
    {
      "cell_type": "code",
      "execution_count": 76,
      "id": "Cm6BgIroCyEK",
      "metadata": {
        "id": "Cm6BgIroCyEK"
      },
      "outputs": [],
      "source": [
        "def get_f0_from_acf(r, fs):\n",
        "    \"\"\"\n",
        "    Estimate frequency using autocorrelation\n",
        "    \"\"\"\n",
        "    sigcorr = comp_acf(r, True)\n",
        "\n",
        "    # Range of indices\n",
        "    lag_range = range(1, len(sigcorr))  # Exclude lag 0\n",
        "\n",
        "    # Narrowed range\n",
        "    min_lag = 12\n",
        "    max_lag = 120\n",
        "    restricted_range = range(min_lag, min(max_lag, len(sigcorr)))\n",
        "\n",
        "    # Find the index of the maximum value within the restricted range\n",
        "    peak = max(restricted_range, key=lambda x: sigcorr[x])\n",
        "\n",
        "    # Fundamental frequency\n",
        "    f0 = fs / peak\n",
        "\n",
        "    return f0\n",
        "    # Brittney"
      ]
    },
    {
      "cell_type": "code",
      "execution_count": 77,
      "id": "r1z4jFhlH1zA",
      "metadata": {
        "id": "r1z4jFhlH1zA"
      },
      "outputs": [],
      "source": [
        "def track_pitch_acf(x, block_size, hop_size, fs=44100):\n",
        "    xb, timeInSec = block_audio(x, block_size, hop_size, fs)\n",
        "\n",
        "    num_blocks = len(xb)\n",
        "    f0 = np.zeros((num_blocks, block_size))\n",
        "\n",
        "    for i in range(num_blocks):\n",
        "        f0[i] = get_f0_from_acf(xb[i], fs)\n",
        "\n",
        "    return f0, timeInSec\n",
        "    #Jerry"
      ]
    },
    {
      "cell_type": "code",
      "execution_count": 78,
      "id": "qwv-sqEONWqn",
      "metadata": {
        "id": "qwv-sqEONWqn"
      },
      "outputs": [],
      "source": [
        "def convert_freq2midi(freq_in_hz):\n",
        "  freq_in_hz= np.array(freq_in_hz)\n",
        "  pitch_in_MIDI = 69+12*np.log2(freq_in_hz/440)\n",
        "  return pitch_in_MIDI\n",
        "  #Anish B1."
      ]
    },
    {
      "cell_type": "code",
      "execution_count": 79,
      "id": "3PEmtmLuNv6s",
      "metadata": {
        "id": "3PEmtmLuNv6s"
      },
      "outputs": [],
      "source": [
        "def eval_pitchtrack(estimate_in_hz, groundtruth_in_hz):\n",
        "    error_in_cents = 0\n",
        "\n",
        "    counter = 0\n",
        "    for i in range(len(estimate_in_hz)):\n",
        "\n",
        "        if estimate_in_hz[i] != 0 and groundtruth_in_hz[i] != 0:\n",
        "            counter += 1\n",
        "            error_in_cents += np.square(1200*np.log2(estimate_in_hz[i]/groundtruth_in_hz[i]))\n",
        "\n",
        "    error_in_cents /= counter \n",
        "                                \n",
        "\n",
        "    errcentRMS = np.sqrt(error_in_cents)\n",
        "\n",
        "    return errcentRMS\n",
        "    #Anish and Jerry B2."
      ]
    },
    {
      "cell_type": "code",
      "execution_count": 80,
      "id": "lsci3yi-Ek_f",
      "metadata": {
        "id": "lsci3yi-Ek_f"
      },
      "outputs": [],
      "source": [
        "def generate_sine(freq1, freq2, amp, dur, fs):\n",
        "    duration1 = dur\n",
        "    duration2 = dur\n",
        "\n",
        "    # generate timeline\n",
        "    t1 = np.linspace(0, duration1, int(fs * duration1), False)\n",
        "    t2 = np.linspace(0, duration2, int(fs * duration2), False)\n",
        "\n",
        "    # generate sine waves\n",
        "    signal1 = 1 * np.sin(2 * np.pi * freq1 * t1)\n",
        "    signal2 = 1 * np.sin(2 * np.pi * freq2 * t2)\n",
        "\n",
        "    # concatenate\n",
        "    signal_ = np.concatenate([signal1, signal2])\n",
        "    t_ = np.concatenate([t1, t2])\n",
        "\n",
        "    return signal_, t_\n",
        "    # Brittney"
      ]
    },
    {
      "cell_type": "code",
      "execution_count": 81,
      "id": "Cb42DBCOO_de",
      "metadata": {
        "id": "Cb42DBCOO_de"
      },
      "outputs": [],
      "source": [
        "def plot_test(xb, block_size, hop_size, fs):\n",
        "  # Store frequency and error values\n",
        "  frequency_values = []\n",
        "  error_values = []\n",
        "  frequencies = [441, 882]\n",
        "\n",
        "  f0, timeInSec = track_pitch_acf(xb, block_size, hop_size, fs)\n",
        "  actual_freq = np.zeros((len(timeInSec), block_size))\n",
        "  error = np.zeros((len(timeInSec), block_size))\n",
        "\n",
        "  # Calculate the frequency and error for each time point\n",
        "  for i in range(len(timeInSec)):\n",
        "\n",
        "    actual_freq[i] = frequencies[1] if timeInSec[i] > 1 else frequencies[0]\n",
        "    frequency_values.append(f0[i])\n",
        "\n",
        "    # Calculate error and append to error_values list\n",
        "    error[i] = f0[i] - actual_freq[i]\n",
        "    error_values.append(error[i])\n",
        "\n",
        "  # Plot frequency\n",
        "  plt.figure()\n",
        "  plt.plot(timeInSec, frequency_values)\n",
        "  plt.xlabel('Time')\n",
        "  plt.ylabel('Frequency')\n",
        "  plt.title('Frequency over Time')\n",
        "\n",
        "  # Plot error\n",
        "  plt.figure()\n",
        "  plt.plot(timeInSec, error_values)\n",
        "  plt.xlabel('Time')\n",
        "  plt.ylabel('Error')\n",
        "  plt.title('Error over Time')\n",
        "\n",
        "  # Display\n",
        "  # plt.show()\n",
        "  return actual_freq\n",
        "  # Brittney"
      ]
    },
    {
      "cell_type": "markdown",
      "id": "Cb42DBCOO_de",
      "metadata": {
        "id": "Cb42DBCOO_de"
      },
      "source": [
        "the code works really as long as there is a general idea regarding where the fundamental frequency lies. in this case, the frequency detected is spot on as we knew what the fundamental was and had the ability to configure min and max lag values accordingly. once more generalized signals are sent through the algorithm, we expect more unpredictable estimations."
      ]
    },
    {
      "cell_type": "code",
      "execution_count": 82,
      "id": "yky82egaLegI",
      "metadata": {
        "id": "yky82egaLegI"
      },
      "outputs": [],
      "source": [
        "sx, t = generate_sine(441, 882, 1.0, 1, 44100)"
      ]
    },
    {
      "cell_type": "code",
      "execution_count": 83,
      "id": "38daa56a",
      "metadata": {
        "id": "38daa56a"
      },
      "outputs": [],
      "source": [
        "f0, timeInSec = track_pitch_acf(sx, 1024, 512, 44100)"
      ]
    },
    {
      "cell_type": "code",
      "execution_count": 84,
      "id": "np912yA8pn1n",
      "metadata": {
        "id": "np912yA8pn1n"
      },
      "outputs": [],
      "source": [
        "xb, timeInSec_ = block_audio(sx, 1024, 512, 44100)"
      ]
    },
    {
      "cell_type": "code",
      "execution_count": 85,
      "id": "4a4fc113",
      "metadata": {
        "colab": {
          "base_uri": "https://localhost:8080/",
          "height": 927
        },
        "id": "4a4fc113",
        "outputId": "24e70a8b-a3ab-43a2-9907-ee2466ee6ac9"
      },
      "outputs": [
        {
          "data": {
            "text/plain": [
              "array([[441., 441., 441., ..., 441., 441., 441.],\n",
              "       [441., 441., 441., ..., 441., 441., 441.],\n",
              "       [441., 441., 441., ..., 441., 441., 441.],\n",
              "       ...,\n",
              "       [882., 882., 882., ..., 882., 882., 882.],\n",
              "       [882., 882., 882., ..., 882., 882., 882.],\n",
              "       [882., 882., 882., ..., 882., 882., 882.]])"
            ]
          },
          "execution_count": 85,
          "metadata": {},
          "output_type": "execute_result"
        },
        {
          "data": {
            "image/png": "[encoded data removed]",
            "text/plain": [
              "<Figure size 640x480 with 1 Axes>"
            ]
          },
          "metadata": {},
          "output_type": "display_data"
        },
        {
          "data": {
            "image/png": "[encoded data removed]",
            "text/plain": [
              "<Figure size 640x480 with 1 Axes>"
            ]
          },
          "metadata": {},
          "output_type": "display_data"
        }
      ],
      "source": [
        "plot_test(sx, 1024, 512, 44100)"
      ]
    },
    {
      "cell_type": "code",
      "execution_count": 86,
      "id": "ea666fcd",
      "metadata": {
        "id": "ea666fcd"
      },
      "outputs": [
        {
          "data": {
            "text/plain": [
              "array([[69.03930158, 69.03930158, 69.03930158, ..., 69.03930158,\n",
              "        69.03930158, 69.03930158],\n",
              "       [69.03930158, 69.03930158, 69.03930158, ..., 69.03930158,\n",
              "        69.03930158, 69.03930158],\n",
              "       [69.03930158, 69.03930158, 69.03930158, ..., 69.03930158,\n",
              "        69.03930158, 69.03930158],\n",
              "       ...,\n",
              "       [81.03930158, 81.03930158, 81.03930158, ..., 81.03930158,\n",
              "        81.03930158, 81.03930158],\n",
              "       [81.03930158, 81.03930158, 81.03930158, ..., 81.03930158,\n",
              "        81.03930158, 81.03930158],\n",
              "       [81.03930158, 81.03930158, 81.03930158, ..., 81.03930158,\n",
              "        81.03930158, 81.03930158]])"
            ]
          },
          "execution_count": 86,
          "metadata": {},
          "output_type": "execute_result"
        }
      ],
      "source": [
        "convert_freq2midi(f0)"
      ]
    },
    {
      "cell_type": "code",
      "execution_count": 87,
      "id": "3dea8e54",
      "metadata": {},
      "outputs": [
        {
          "name": "stderr",
          "output_type": "stream",
          "text": [
            "/var/folders/r7/14rq71vn0wgf5_0dd1_6_h380000gn/T/ipykernel_83594/829524153.py:6: WavFileWarning: Chunk (non-data) not understood, skipping it.\n",
            "  fs, audio_data = scipy.io.wavfile.read(filename)\n"
          ]
        },
        {
          "name": "stdout",
          "output_type": "stream",
          "text": [
            "Overall Error in Cents RMS for file 0: 7525.052494573801\n",
            "Overall Error in Cents RMS for file 1: 9166.707292365929\n",
            "Overall Error in Cents RMS for file 2: 8480.197700028739\n"
          ]
        }
      ],
      "source": [
        "def run_evaluation(complete_path_to_data_folder):\n",
        "   all_errors = []\n",
        "   #search given directory for wav files\n",
        "   for filename in glob.glob(os.path.join(complete_path_to_data_folder, '*.wav')):\n",
        "      #import wav file as audio_data\n",
        "      fs, audio_data = scipy.io.wavfile.read(filename)\n",
        "      estimated_pitch, _ = track_pitch_acf(audio_data, 1024,512, fs)\n",
        "      groundtruth_file = filename.replace('.wav', '.f0.Corrected.txt')\n",
        "      groundtruth_data = np.loadtxt(groundtruth_file)\n",
        "\n",
        "\n",
        "      new_estimated_pitch = np.zeros((len(groundtruth_data)))\n",
        "      new_groundtruth_data = np.zeros((len(groundtruth_data)))\n",
        "      \n",
        "      for i in range(len(estimated_pitch)):\n",
        "         new_estimated_pitch[i] = estimated_pitch[i][0]\n",
        "\n",
        "      for i in range(len(groundtruth_data)):\n",
        "         new_groundtruth_data[i] = groundtruth_data[i][0]\n",
        "\n",
        "\n",
        "      error = eval_pitchtrack(new_estimated_pitch, new_groundtruth_data)\n",
        "      all_errors.append(error)\n",
        "   \n",
        "   #overall_error = np.mean(all_errors)\n",
        "   for i in range(len(all_errors)):\n",
        "      print(f\"Overall Error in Cents RMS for file {i}: {all_errors[i]}\")\n",
        "\n",
        "   return all_errors\n",
        "\n",
        "\n",
        "err = run_evaluation(\"trainData\")"
      ]
    },
    {
      "cell_type": "code",
      "execution_count": null,
      "id": "535f3cba",
      "metadata": {},
      "outputs": [],
      "source": []
    }
  ],
  "metadata": {
    "colab": {
      "provenance": []
    },
    "kernelspec": {
      "display_name": "Python 3 (ipykernel)",
      "language": "python",
      "name": "python3"
    },
    "language_info": {
      "codemirror_mode": {
        "name": "ipython",
        "version": 3
      },
      "file_extension": ".py",
      "mimetype": "text/x-python",
      "name": "python",
      "nbconvert_exporter": "python",
      "pygments_lexer": "ipython3",
      "version": "3.9.0"
    }
  },
  "nbformat": 4,
  "nbformat_minor": 5
}
