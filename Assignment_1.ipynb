{
  "cells": [
    {
      "cell_type": "code",
      "execution_count": 16,
      "id": "04b03d29",
      "metadata": {
        "id": "04b03d29"
      },
      "outputs": [],
      "source": [
        "import numpy as np\n",
        "import scipy\n",
        "import matplotlib.pyplot as plt"
      ]
    },
    {
      "cell_type": "code",
      "execution_count": 35,
      "id": "9a0a98ab",
      "metadata": {
        "id": "9a0a98ab"
      },
      "outputs": [],
      "source": [
        "# def block_audio(x, block_size, hop_size, fs= 44100):\n",
        "#     num_blocks= int((len(x)-block_size/ hop_size)+ 1)\n",
        "#     xb = np.zeros((num_blocks, block_size))\n",
        "#     timeInSec = np.zeros(num_blocks)\n",
        "#     for a in range(num_blocks):\n",
        "#         first = a *hop_size\n",
        "#         last = first+block_size\n",
        "#         xb[a] = x[first:last]\n",
        "#         timeInSec[a] = first/fs\n",
        "\n",
        "#     return xb, timeInSec\n",
        "# Original Code that was from the Spec. Assignment imported (can be changed)"
      ]
    },
    {
      "cell_type": "code",
      "source": [
        "def block_audio(x, block_size, hop_size, fs):\n",
        "    # Compute the number of blocks\n",
        "    num_blocks = int((len(x) - block_size) / hop_size) + 1\n",
        "\n",
        "    # Initialize the blocks\n",
        "    xb = np.zeros((num_blocks, block_size))\n",
        "\n",
        "    # Initialize the timestamps\n",
        "    timeInSec = np.zeros(num_blocks)\n",
        "\n",
        "    # Compute the blocks and timestamps\n",
        "    for i in range(num_blocks):\n",
        "        start = i * hop_size\n",
        "        end = start + block_size\n",
        "        xb[i] = x[start:end]\n",
        "        timeInSec[i] = start / fs\n",
        "\n",
        "    return xb, timeInSec"
      ],
      "metadata": {
        "id": "GFXq5sbhqcHA"
      },
      "id": "GFXq5sbhqcHA",
      "execution_count": 39,
      "outputs": []
    },
    {
      "cell_type": "code",
      "source": [
        "def comp_acf(input_vector, is_normalized):\n",
        "\n",
        "  # Compute the autocorrelation and take the second half\n",
        "  result = np.correlate(input_vector, input_vector, mode='full')[len(input_vector)-1:]\n",
        "\n",
        "  if is_normalized:\n",
        "    result /= result[0]\n",
        "\n",
        "  # Generate lags\n",
        "  lags = np.arange(0, len(result), 1)\n",
        "\n",
        "  return result\n",
        "  # Brittney"
      ],
      "metadata": {
        "id": "AwfD6cdiCc6z"
      },
      "id": "AwfD6cdiCc6z",
      "execution_count": 18,
      "outputs": []
    },
    {
      "cell_type": "code",
      "source": [
        "def get_f0_from_acf(r, fs):\n",
        "    \"\"\"\n",
        "    Estimate frequency using autocorrelation\n",
        "    \"\"\"\n",
        "    sigcorr = comp_acf(r, True)\n",
        "\n",
        "    # Range of indices\n",
        "    lag_range = range(1, len(sigcorr))  # Exclude lag 0\n",
        "\n",
        "    # Narrowed range\n",
        "    min_lag = 12\n",
        "    max_lag = 120\n",
        "    restricted_range = range(min_lag, min(max_lag, len(sigcorr)))\n",
        "\n",
        "    # Find the index of the maximum value within the restricted range\n",
        "    peak = max(restricted_range, key=lambda x: sigcorr[x])\n",
        "\n",
        "    # Fundamental frequency\n",
        "    f0 = fs / peak\n",
        "\n",
        "    return f0\n",
        "    # Brittney"
      ],
      "metadata": {
        "id": "Cm6BgIroCyEK"
      },
      "id": "Cm6BgIroCyEK",
      "execution_count": 19,
      "outputs": []
    },
    {
      "cell_type": "code",
      "source": [
        "def track_pitch_acf(x, block_size, hop_size, fs):\n",
        "\n",
        "    return f0, timeInSec"
      ],
      "metadata": {
        "id": "r1z4jFhlH1zA"
      },
      "id": "r1z4jFhlH1zA",
      "execution_count": 20,
      "outputs": []
    },
    {
      "cell_type": "code",
      "source": [
        "def convert_freq2midi(freq_in_hz):\n",
        "  freq_in_hz= np.array(freq_in_hz)\n",
        "  pitch_in_MIDI = 69+12*np.log2(freq_in_hz/440)\n",
        "  return pitch_in_MIDI\n",
        "  #Anish B1."
      ],
      "metadata": {
        "id": "qwv-sqEONWqn"
      },
      "id": "qwv-sqEONWqn",
      "execution_count": 21,
      "outputs": []
    },
    {
      "cell_type": "code",
      "source": [
        "def eval_pitchtrack(estimate_in_hz, groundtruth_in_hz):\n",
        "    estimate_in_cents = 1200*np.log2(estimate_in_hz/groundtruth_in_hz)\n",
        "    groundtruth_in_cents = np.zeros_like(groundtruth_in_hz)\n",
        "    error_in_cents = estimate_in_cents - groundtruth_in_cents\n",
        "    errcentRMS = np.sqrt(np.mean(np.square(error_in_cents)))\n",
        "\n",
        "    return errcentRMS\n",
        "    #Anish B2."
      ],
      "metadata": {
        "id": "3PEmtmLuNv6s"
      },
      "id": "3PEmtmLuNv6s",
      "execution_count": 22,
      "outputs": []
    },
    {
      "cell_type": "code",
      "source": [
        "def generate_sine(freq1, freq2, amp, dur, fs):\n",
        "    duration1 = dur\n",
        "    duration2 = dur\n",
        "\n",
        "    # generate timeline\n",
        "    t1 = np.linspace(0, duration1, int(fs * duration1), False)\n",
        "    t2 = np.linspace(0, duration2, int(fs * duration2), False)\n",
        "\n",
        "    # generate sine waves\n",
        "    signal1 = 1 * np.sin(2 * np.pi * freq1 * t1)\n",
        "    signal2 = 1 * np.sin(2 * np.pi * freq2 * t2)\n",
        "\n",
        "    # concatenate\n",
        "    signal_ = np.concatenate([signal1, signal2])\n",
        "    t_ = np.concatenate([t1, t2])\n",
        "\n",
        "    return signal_, t_\n",
        "    # Brittney"
      ],
      "metadata": {
        "id": "lsci3yi-Ek_f"
      },
      "id": "lsci3yi-Ek_f",
      "execution_count": 23,
      "outputs": []
    },
    {
      "cell_type": "code",
      "source": [
        "def plot_test(xb, time_vector):\n",
        "  # Store frequency and error values\n",
        "  frequency_values = []\n",
        "  error_values = []\n",
        "  frequencies = [441, 882]\n",
        "\n",
        "  # Calculate the frequency and error for each time point\n",
        "  for i in time_vector:\n",
        "      actual_freq = frequencies[0] if np.any(time_vector < 1) else frequencies[1]\n",
        "      # Determine fundamental using freq_from_autocorr\n",
        "      f0 = get_f0_from_acf(xb, 44100)\n",
        "      frequency_values.append(f0)\n",
        "\n",
        "      # Calculate error and append to error_values list\n",
        "      error = f0 - actual_freq\n",
        "      error_values.append(error)\n",
        "\n",
        "  # Plot frequency over time\n",
        "  plt.figure()\n",
        "  plt.plot(time_vector, frequency_values)\n",
        "  plt.xlabel('Time')\n",
        "  plt.ylabel('Frequency')\n",
        "  plt.title('Frequency over Time')\n",
        "\n",
        "  # Plot error over time\n",
        "  plt.figure()\n",
        "  plt.plot(time_vector, error_values)\n",
        "  plt.xlabel('Time')\n",
        "  plt.ylabel('Error')\n",
        "  plt.title('Error over Time')\n",
        "\n",
        "  # Display\n",
        "  plt.show()\n",
        "  # Brittney"
      ],
      "metadata": {
        "id": "BKdNfFtNHBSa"
      },
      "id": "BKdNfFtNHBSa",
      "execution_count": 42,
      "outputs": []
    },
    {
      "cell_type": "markdown",
      "source": [
        "the code works really as long as there is a general idea regarding where the fundamental frequency lies. in this case, the frequency detected is spot on as we knew what the fundamental was and had the ability to configure min and max lag values accordingly. once more generalized signals are sent through the algorithm, we expect more unpredictable estimations."
      ],
      "metadata": {
        "id": "Cb42DBCOO_de"
      },
      "id": "Cb42DBCOO_de"
    },
    {
      "cell_type": "code",
      "source": [
        "x, t = generate_sine(441, 882, 1.0, 1, 44100)"
      ],
      "metadata": {
        "id": "yky82egaLegI"
      },
      "id": "yky82egaLegI",
      "execution_count": 25,
      "outputs": []
    },
    {
      "cell_type": "code",
      "execution_count": null,
      "id": "38daa56a",
      "metadata": {
        "id": "38daa56a"
      },
      "outputs": [],
      "source": [
        "f0, timeInSec = track_pitch_acf(x, 1024, 512, 44100)"
      ]
    },
    {
      "cell_type": "code",
      "source": [
        "xb, timeInSec_ = block_audio(x, 1024, 512, 44100)"
      ],
      "metadata": {
        "id": "np912yA8pn1n"
      },
      "id": "np912yA8pn1n",
      "execution_count": 40,
      "outputs": []
    },
    {
      "cell_type": "code",
      "execution_count": 43,
      "id": "4a4fc113",
      "metadata": {
        "colab": {
          "base_uri": "https://localhost:8080/",
          "height": 927
        },
        "id": "4a4fc113",
        "outputId": "24e70a8b-a3ab-43a2-9907-ee2466ee6ac9"
      },
      "outputs": [
        {
          "output_type": "display_data",
          "data": {
            "text/plain": [
              "<Figure size 640x480 with 1 Axes>"
            ],
            "image/png": "[encoded data removed]"
          },
          "metadata": {}
        },
        {
          "output_type": "display_data",
          "data": {
            "text/plain": [
              "<Figure size 640x480 with 1 Axes>"
            ],
            "image/png": "[encoded data removed]"
          },
          "metadata": {}
        }
      ],
      "source": [
        "plot_test(xb[0], t)"
      ]
    },
    {
      "cell_type": "code",
      "execution_count": null,
      "id": "ea666fcd",
      "metadata": {
        "id": "ea666fcd"
      },
      "outputs": [],
      "source": [
        "convert_freq2midi(f0)"
      ]
    }
  ],
  "metadata": {
    "kernelspec": {
      "display_name": "Python 3 (ipykernel)",
      "language": "python",
      "name": "python3"
    },
    "language_info": {
      "codemirror_mode": {
        "name": "ipython",
        "version": 3
      },
      "file_extension": ".py",
      "mimetype": "text/x-python",
      "name": "python",
      "nbconvert_exporter": "python",
      "pygments_lexer": "ipython3",
      "version": "3.9.0"
    },
    "colab": {
      "provenance": []
    }
  },
  "nbformat": 4,
  "nbformat_minor": 5
}